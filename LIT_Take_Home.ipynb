{
  "nbformat": 4,
  "nbformat_minor": 0,
  "metadata": {
    "colab": {
      "name": "LIT Take Home.ipynb",
      "provenance": [],
      "collapsed_sections": [],
      "authorship_tag": "ABX9TyMKxjnIfu4xNlnjddNK0h3k",
      "include_colab_link": true
    },
    "kernelspec": {
      "name": "python3",
      "display_name": "Python 3"
    },
    "language_info": {
      "name": "python"
    }
  },
  "cells": [
    {
      "cell_type": "markdown",
      "metadata": {
        "id": "view-in-github",
        "colab_type": "text"
      },
      "source": [
        "<a href=\"https://colab.research.google.com/github/rbkellam/2019-Fantasy-Football-data/blob/main/LIT_Take_Home.ipynb\" target=\"_parent\"><img src=\"https://colab.research.google.com/assets/colab-badge.svg\" alt=\"Open In Colab\"/></a>"
      ]
    },
    {
      "cell_type": "code",
      "metadata": {
        "id": "mIYC4on0v5md"
      },
      "source": [
        "import pandas as pd\n",
        "import numpy as np\n",
        "import datetime as dt\n",
        "import statistics as stats\n",
        "import io\n",
        "\n"
      ],
      "execution_count": null,
      "outputs": []
    },
    {
      "cell_type": "code",
      "metadata": {
        "colab": {
          "resources": {
            "http://localhost:8080/nbextensions/google.colab/files.js": {
              "data": "Ly8gQ29weXJpZ2h0IDIwMTcgR29vZ2xlIExMQwovLwovLyBMaWNlbnNlZCB1bmRlciB0aGUgQXBhY2hlIExpY2Vuc2UsIFZlcnNpb24gMi4wICh0aGUgIkxpY2Vuc2UiKTsKLy8geW91IG1heSBub3QgdXNlIHRoaXMgZmlsZSBleGNlcHQgaW4gY29tcGxpYW5jZSB3aXRoIHRoZSBMaWNlbnNlLgovLyBZb3UgbWF5IG9idGFpbiBhIGNvcHkgb2YgdGhlIExpY2Vuc2UgYXQKLy8KLy8gICAgICBodHRwOi8vd3d3LmFwYWNoZS5vcmcvbGljZW5zZXMvTElDRU5TRS0yLjAKLy8KLy8gVW5sZXNzIHJlcXVpcmVkIGJ5IGFwcGxpY2FibGUgbGF3IG9yIGFncmVlZCB0byBpbiB3cml0aW5nLCBzb2Z0d2FyZQovLyBkaXN0cmlidXRlZCB1bmRlciB0aGUgTGljZW5zZSBpcyBkaXN0cmlidXRlZCBvbiBhbiAiQVMgSVMiIEJBU0lTLAovLyBXSVRIT1VUIFdBUlJBTlRJRVMgT1IgQ09ORElUSU9OUyBPRiBBTlkgS0lORCwgZWl0aGVyIGV4cHJlc3Mgb3IgaW1wbGllZC4KLy8gU2VlIHRoZSBMaWNlbnNlIGZvciB0aGUgc3BlY2lmaWMgbGFuZ3VhZ2UgZ292ZXJuaW5nIHBlcm1pc3Npb25zIGFuZAovLyBsaW1pdGF0aW9ucyB1bmRlciB0aGUgTGljZW5zZS4KCi8qKgogKiBAZmlsZW92ZXJ2aWV3IEhlbHBlcnMgZm9yIGdvb2dsZS5jb2xhYiBQeXRob24gbW9kdWxlLgogKi8KKGZ1bmN0aW9uKHNjb3BlKSB7CmZ1bmN0aW9uIHNwYW4odGV4dCwgc3R5bGVBdHRyaWJ1dGVzID0ge30pIHsKICBjb25zdCBlbGVtZW50ID0gZG9jdW1lbnQuY3JlYXRlRWxlbWVudCgnc3BhbicpOwogIGVsZW1lbnQudGV4dENvbnRlbnQgPSB0ZXh0OwogIGZvciAoY29uc3Qga2V5IG9mIE9iamVjdC5rZXlzKHN0eWxlQXR0cmlidXRlcykpIHsKICAgIGVsZW1lbnQuc3R5bGVba2V5XSA9IHN0eWxlQXR0cmlidXRlc1trZXldOwogIH0KICByZXR1cm4gZWxlbWVudDsKfQoKLy8gTWF4IG51bWJlciBvZiBieXRlcyB3aGljaCB3aWxsIGJlIHVwbG9hZGVkIGF0IGEgdGltZS4KY29uc3QgTUFYX1BBWUxPQURfU0laRSA9IDEwMCAqIDEwMjQ7CgpmdW5jdGlvbiBfdXBsb2FkRmlsZXMoaW5wdXRJZCwgb3V0cHV0SWQpIHsKICBjb25zdCBzdGVwcyA9IHVwbG9hZEZpbGVzU3RlcChpbnB1dElkLCBvdXRwdXRJZCk7CiAgY29uc3Qgb3V0cHV0RWxlbWVudCA9IGRvY3VtZW50LmdldEVsZW1lbnRCeUlkKG91dHB1dElkKTsKICAvLyBDYWNoZSBzdGVwcyBvbiB0aGUgb3V0cHV0RWxlbWVudCB0byBtYWtlIGl0IGF2YWlsYWJsZSBmb3IgdGhlIG5leHQgY2FsbAogIC8vIHRvIHVwbG9hZEZpbGVzQ29udGludWUgZnJvbSBQeXRob24uCiAgb3V0cHV0RWxlbWVudC5zdGVwcyA9IHN0ZXBzOwoKICByZXR1cm4gX3VwbG9hZEZpbGVzQ29udGludWUob3V0cHV0SWQpOwp9CgovLyBUaGlzIGlzIHJvdWdobHkgYW4gYXN5bmMgZ2VuZXJhdG9yIChub3Qgc3VwcG9ydGVkIGluIHRoZSBicm93c2VyIHlldCksCi8vIHdoZXJlIHRoZXJlIGFyZSBtdWx0aXBsZSBhc3luY2hyb25vdXMgc3RlcHMgYW5kIHRoZSBQeXRob24gc2lkZSBpcyBnb2luZwovLyB0byBwb2xsIGZvciBjb21wbGV0aW9uIG9mIGVhY2ggc3RlcC4KLy8gVGhpcyB1c2VzIGEgUHJvbWlzZSB0byBibG9jayB0aGUgcHl0aG9uIHNpZGUgb24gY29tcGxldGlvbiBvZiBlYWNoIHN0ZXAsCi8vIHRoZW4gcGFzc2VzIHRoZSByZXN1bHQgb2YgdGhlIHByZXZpb3VzIHN0ZXAgYXMgdGhlIGlucHV0IHRvIHRoZSBuZXh0IHN0ZXAuCmZ1bmN0aW9uIF91cGxvYWRGaWxlc0NvbnRpbnVlKG91dHB1dElkKSB7CiAgY29uc3Qgb3V0cHV0RWxlbWVudCA9IGRvY3VtZW50LmdldEVsZW1lbnRCeUlkKG91dHB1dElkKTsKICBjb25zdCBzdGVwcyA9IG91dHB1dEVsZW1lbnQuc3RlcHM7CgogIGNvbnN0IG5leHQgPSBzdGVwcy5uZXh0KG91dHB1dEVsZW1lbnQubGFzdFByb21pc2VWYWx1ZSk7CiAgcmV0dXJuIFByb21pc2UucmVzb2x2ZShuZXh0LnZhbHVlLnByb21pc2UpLnRoZW4oKHZhbHVlKSA9PiB7CiAgICAvLyBDYWNoZSB0aGUgbGFzdCBwcm9taXNlIHZhbHVlIHRvIG1ha2UgaXQgYXZhaWxhYmxlIHRvIHRoZSBuZXh0CiAgICAvLyBzdGVwIG9mIHRoZSBnZW5lcmF0b3IuCiAgICBvdXRwdXRFbGVtZW50Lmxhc3RQcm9taXNlVmFsdWUgPSB2YWx1ZTsKICAgIHJldHVybiBuZXh0LnZhbHVlLnJlc3BvbnNlOwogIH0pOwp9CgovKioKICogR2VuZXJhdG9yIGZ1bmN0aW9uIHdoaWNoIGlzIGNhbGxlZCBiZXR3ZWVuIGVhY2ggYXN5bmMgc3RlcCBvZiB0aGUgdXBsb2FkCiAqIHByb2Nlc3MuCiAqIEBwYXJhbSB7c3RyaW5nfSBpbnB1dElkIEVsZW1lbnQgSUQgb2YgdGhlIGlucHV0IGZpbGUgcGlja2VyIGVsZW1lbnQuCiAqIEBwYXJhbSB7c3RyaW5nfSBvdXRwdXRJZCBFbGVtZW50IElEIG9mIHRoZSBvdXRwdXQgZGlzcGxheS4KICogQHJldHVybiB7IUl0ZXJhYmxlPCFPYmplY3Q+fSBJdGVyYWJsZSBvZiBuZXh0IHN0ZXBzLgogKi8KZnVuY3Rpb24qIHVwbG9hZEZpbGVzU3RlcChpbnB1dElkLCBvdXRwdXRJZCkgewogIGNvbnN0IGlucHV0RWxlbWVudCA9IGRvY3VtZW50LmdldEVsZW1lbnRCeUlkKGlucHV0SWQpOwogIGlucHV0RWxlbWVudC5kaXNhYmxlZCA9IGZhbHNlOwoKICBjb25zdCBvdXRwdXRFbGVtZW50ID0gZG9jdW1lbnQuZ2V0RWxlbWVudEJ5SWQob3V0cHV0SWQpOwogIG91dHB1dEVsZW1lbnQuaW5uZXJIVE1MID0gJyc7CgogIGNvbnN0IHBpY2tlZFByb21pc2UgPSBuZXcgUHJvbWlzZSgocmVzb2x2ZSkgPT4gewogICAgaW5wdXRFbGVtZW50LmFkZEV2ZW50TGlzdGVuZXIoJ2NoYW5nZScsIChlKSA9PiB7CiAgICAgIHJlc29sdmUoZS50YXJnZXQuZmlsZXMpOwogICAgfSk7CiAgfSk7CgogIGNvbnN0IGNhbmNlbCA9IGRvY3VtZW50LmNyZWF0ZUVsZW1lbnQoJ2J1dHRvbicpOwogIGlucHV0RWxlbWVudC5wYXJlbnRFbGVtZW50LmFwcGVuZENoaWxkKGNhbmNlbCk7CiAgY2FuY2VsLnRleHRDb250ZW50ID0gJ0NhbmNlbCB1cGxvYWQnOwogIGNvbnN0IGNhbmNlbFByb21pc2UgPSBuZXcgUHJvbWlzZSgocmVzb2x2ZSkgPT4gewogICAgY2FuY2VsLm9uY2xpY2sgPSAoKSA9PiB7CiAgICAgIHJlc29sdmUobnVsbCk7CiAgICB9OwogIH0pOwoKICAvLyBXYWl0IGZvciB0aGUgdXNlciB0byBwaWNrIHRoZSBmaWxlcy4KICBjb25zdCBmaWxlcyA9IHlpZWxkIHsKICAgIHByb21pc2U6IFByb21pc2UucmFjZShbcGlja2VkUHJvbWlzZSwgY2FuY2VsUHJvbWlzZV0pLAogICAgcmVzcG9uc2U6IHsKICAgICAgYWN0aW9uOiAnc3RhcnRpbmcnLAogICAgfQogIH07CgogIGNhbmNlbC5yZW1vdmUoKTsKCiAgLy8gRGlzYWJsZSB0aGUgaW5wdXQgZWxlbWVudCBzaW5jZSBmdXJ0aGVyIHBpY2tzIGFyZSBub3QgYWxsb3dlZC4KICBpbnB1dEVsZW1lbnQuZGlzYWJsZWQgPSB0cnVlOwoKICBpZiAoIWZpbGVzKSB7CiAgICByZXR1cm4gewogICAgICByZXNwb25zZTogewogICAgICAgIGFjdGlvbjogJ2NvbXBsZXRlJywKICAgICAgfQogICAgfTsKICB9CgogIGZvciAoY29uc3QgZmlsZSBvZiBmaWxlcykgewogICAgY29uc3QgbGkgPSBkb2N1bWVudC5jcmVhdGVFbGVtZW50KCdsaScpOwogICAgbGkuYXBwZW5kKHNwYW4oZmlsZS5uYW1lLCB7Zm9udFdlaWdodDogJ2JvbGQnfSkpOwogICAgbGkuYXBwZW5kKHNwYW4oCiAgICAgICAgYCgke2ZpbGUudHlwZSB8fCAnbi9hJ30pIC0gJHtmaWxlLnNpemV9IGJ5dGVzLCBgICsKICAgICAgICBgbGFzdCBtb2RpZmllZDogJHsKICAgICAgICAgICAgZmlsZS5sYXN0TW9kaWZpZWREYXRlID8gZmlsZS5sYXN0TW9kaWZpZWREYXRlLnRvTG9jYWxlRGF0ZVN0cmluZygpIDoKICAgICAgICAgICAgICAgICAgICAgICAgICAgICAgICAgICAgJ24vYSd9IC0gYCkpOwogICAgY29uc3QgcGVyY2VudCA9IHNwYW4oJzAlIGRvbmUnKTsKICAgIGxpLmFwcGVuZENoaWxkKHBlcmNlbnQpOwoKICAgIG91dHB1dEVsZW1lbnQuYXBwZW5kQ2hpbGQobGkpOwoKICAgIGNvbnN0IGZpbGVEYXRhUHJvbWlzZSA9IG5ldyBQcm9taXNlKChyZXNvbHZlKSA9PiB7CiAgICAgIGNvbnN0IHJlYWRlciA9IG5ldyBGaWxlUmVhZGVyKCk7CiAgICAgIHJlYWRlci5vbmxvYWQgPSAoZSkgPT4gewogICAgICAgIHJlc29sdmUoZS50YXJnZXQucmVzdWx0KTsKICAgICAgfTsKICAgICAgcmVhZGVyLnJlYWRBc0FycmF5QnVmZmVyKGZpbGUpOwogICAgfSk7CiAgICAvLyBXYWl0IGZvciB0aGUgZGF0YSB0byBiZSByZWFkeS4KICAgIGxldCBmaWxlRGF0YSA9IHlpZWxkIHsKICAgICAgcHJvbWlzZTogZmlsZURhdGFQcm9taXNlLAogICAgICByZXNwb25zZTogewogICAgICAgIGFjdGlvbjogJ2NvbnRpbnVlJywKICAgICAgfQogICAgfTsKCiAgICAvLyBVc2UgYSBjaHVua2VkIHNlbmRpbmcgdG8gYXZvaWQgbWVzc2FnZSBzaXplIGxpbWl0cy4gU2VlIGIvNjIxMTU2NjAuCiAgICBsZXQgcG9zaXRpb24gPSAwOwogICAgZG8gewogICAgICBjb25zdCBsZW5ndGggPSBNYXRoLm1pbihmaWxlRGF0YS5ieXRlTGVuZ3RoIC0gcG9zaXRpb24sIE1BWF9QQVlMT0FEX1NJWkUpOwogICAgICBjb25zdCBjaHVuayA9IG5ldyBVaW50OEFycmF5KGZpbGVEYXRhLCBwb3NpdGlvbiwgbGVuZ3RoKTsKICAgICAgcG9zaXRpb24gKz0gbGVuZ3RoOwoKICAgICAgY29uc3QgYmFzZTY0ID0gYnRvYShTdHJpbmcuZnJvbUNoYXJDb2RlLmFwcGx5KG51bGwsIGNodW5rKSk7CiAgICAgIHlpZWxkIHsKICAgICAgICByZXNwb25zZTogewogICAgICAgICAgYWN0aW9uOiAnYXBwZW5kJywKICAgICAgICAgIGZpbGU6IGZpbGUubmFtZSwKICAgICAgICAgIGRhdGE6IGJhc2U2NCwKICAgICAgICB9LAogICAgICB9OwoKICAgICAgbGV0IHBlcmNlbnREb25lID0gZmlsZURhdGEuYnl0ZUxlbmd0aCA9PT0gMCA/CiAgICAgICAgICAxMDAgOgogICAgICAgICAgTWF0aC5yb3VuZCgocG9zaXRpb24gLyBmaWxlRGF0YS5ieXRlTGVuZ3RoKSAqIDEwMCk7CiAgICAgIHBlcmNlbnQudGV4dENvbnRlbnQgPSBgJHtwZXJjZW50RG9uZX0lIGRvbmVgOwoKICAgIH0gd2hpbGUgKHBvc2l0aW9uIDwgZmlsZURhdGEuYnl0ZUxlbmd0aCk7CiAgfQoKICAvLyBBbGwgZG9uZS4KICB5aWVsZCB7CiAgICByZXNwb25zZTogewogICAgICBhY3Rpb246ICdjb21wbGV0ZScsCiAgICB9CiAgfTsKfQoKc2NvcGUuZ29vZ2xlID0gc2NvcGUuZ29vZ2xlIHx8IHt9OwpzY29wZS5nb29nbGUuY29sYWIgPSBzY29wZS5nb29nbGUuY29sYWIgfHwge307CnNjb3BlLmdvb2dsZS5jb2xhYi5fZmlsZXMgPSB7CiAgX3VwbG9hZEZpbGVzLAogIF91cGxvYWRGaWxlc0NvbnRpbnVlLAp9Owp9KShzZWxmKTsK",
              "ok": true,
              "headers": [
                [
                  "content-type",
                  "application/javascript"
                ]
              ],
              "status": 200,
              "status_text": ""
            }
          },
          "base_uri": "https://localhost:8080/",
          "height": 106
        },
        "id": "N0PTqtEU41Pl",
        "outputId": "936fefcd-94a2-4f56-db62-d425277c8ec9"
      },
      "source": [
        "from google.colab import files\n",
        "uploaded = files.upload()\n",
        "# selecting downloaded RWTCd and 3MO (1) files that I downloaded from email"
      ],
      "execution_count": null,
      "outputs": [
        {
          "output_type": "display_data",
          "data": {
            "text/html": [
              "\n",
              "     <input type=\"file\" id=\"files-4dcdc549-e399-4f66-98b8-cbe510b151b5\" name=\"files[]\" multiple disabled\n",
              "        style=\"border:none\" />\n",
              "     <output id=\"result-4dcdc549-e399-4f66-98b8-cbe510b151b5\">\n",
              "      Upload widget is only available when the cell has been executed in the\n",
              "      current browser session. Please rerun this cell to enable.\n",
              "      </output>\n",
              "      <script src=\"/nbextensions/google.colab/files.js\"></script> "
            ],
            "text/plain": [
              "<IPython.core.display.HTML object>"
            ]
          },
          "metadata": {}
        },
        {
          "output_type": "stream",
          "name": "stdout",
          "text": [
            "Saving RWTCd.xls to RWTCd (2).xls\n",
            "Saving 3MO_(1).csv to 3MO_(1) (2).csv\n"
          ]
        }
      ]
    },
    {
      "cell_type": "code",
      "metadata": {
        "id": "E6_2CD526O0z"
      },
      "source": [
        "oil = pd.read_excel(io.BytesIO(uploaded['RWTCd.xls']), sheet_name='Data 1')\n",
        "treasury = pd.read_csv(io.StringIO(uploaded['3MO_(1).csv'].decode('utf-8')))"
      ],
      "execution_count": null,
      "outputs": []
    },
    {
      "cell_type": "code",
      "metadata": {
        "colab": {
          "base_uri": "https://localhost:8080/",
          "height": 204
        },
        "id": "6E4PhBgpA1qm",
        "outputId": "0d1da452-ef97-4a91-f90c-28ca1e7e3e73"
      },
      "source": [
        "oil.head()"
      ],
      "execution_count": null,
      "outputs": [
        {
          "output_type": "execute_result",
          "data": {
            "text/html": [
              "<div>\n",
              "<style scoped>\n",
              "    .dataframe tbody tr th:only-of-type {\n",
              "        vertical-align: middle;\n",
              "    }\n",
              "\n",
              "    .dataframe tbody tr th {\n",
              "        vertical-align: top;\n",
              "    }\n",
              "\n",
              "    .dataframe thead th {\n",
              "        text-align: right;\n",
              "    }\n",
              "</style>\n",
              "<table border=\"1\" class=\"dataframe\">\n",
              "  <thead>\n",
              "    <tr style=\"text-align: right;\">\n",
              "      <th></th>\n",
              "      <th>Back to Contents</th>\n",
              "      <th>Data 1: Cushing, OK WTI Spot Price FOB (Dollars per Barrel)</th>\n",
              "    </tr>\n",
              "  </thead>\n",
              "  <tbody>\n",
              "    <tr>\n",
              "      <th>0</th>\n",
              "      <td>Sourcekey</td>\n",
              "      <td>RWTC</td>\n",
              "    </tr>\n",
              "    <tr>\n",
              "      <th>1</th>\n",
              "      <td>Date</td>\n",
              "      <td>Cushing, OK WTI Spot Price FOB (Dollars per Ba...</td>\n",
              "    </tr>\n",
              "    <tr>\n",
              "      <th>2</th>\n",
              "      <td>1986-01-02 00:00:00</td>\n",
              "      <td>25.56</td>\n",
              "    </tr>\n",
              "    <tr>\n",
              "      <th>3</th>\n",
              "      <td>1986-01-03 00:00:00</td>\n",
              "      <td>26</td>\n",
              "    </tr>\n",
              "    <tr>\n",
              "      <th>4</th>\n",
              "      <td>1986-01-06 00:00:00</td>\n",
              "      <td>26.53</td>\n",
              "    </tr>\n",
              "  </tbody>\n",
              "</table>\n",
              "</div>"
            ],
            "text/plain": [
              "      Back to Contents Data 1: Cushing, OK WTI Spot Price FOB (Dollars per Barrel)\n",
              "0            Sourcekey                                               RWTC         \n",
              "1                 Date  Cushing, OK WTI Spot Price FOB (Dollars per Ba...         \n",
              "2  1986-01-02 00:00:00                                              25.56         \n",
              "3  1986-01-03 00:00:00                                                 26         \n",
              "4  1986-01-06 00:00:00                                              26.53         "
            ]
          },
          "metadata": {},
          "execution_count": 50
        }
      ]
    },
    {
      "cell_type": "code",
      "metadata": {
        "colab": {
          "base_uri": "https://localhost:8080/",
          "height": 669
        },
        "id": "0MDS-qpSNjtr",
        "outputId": "82ca3353-d741-4ab7-a223-7e7a677244b8"
      },
      "source": [
        "blank = treasury[treasury['DTB3'] == '.' ].index\n",
        "treasury.drop(blank, inplace=True)\n",
        "# removing holidays or missing data from treasury dataset\n",
        "treasury.head(20)"
      ],
      "execution_count": null,
      "outputs": [
        {
          "output_type": "execute_result",
          "data": {
            "text/html": [
              "<div>\n",
              "<style scoped>\n",
              "    .dataframe tbody tr th:only-of-type {\n",
              "        vertical-align: middle;\n",
              "    }\n",
              "\n",
              "    .dataframe tbody tr th {\n",
              "        vertical-align: top;\n",
              "    }\n",
              "\n",
              "    .dataframe thead th {\n",
              "        text-align: right;\n",
              "    }\n",
              "</style>\n",
              "<table border=\"1\" class=\"dataframe\">\n",
              "  <thead>\n",
              "    <tr style=\"text-align: right;\">\n",
              "      <th></th>\n",
              "      <th>DATE</th>\n",
              "      <th>DTB3</th>\n",
              "    </tr>\n",
              "  </thead>\n",
              "  <tbody>\n",
              "    <tr>\n",
              "      <th>0</th>\n",
              "      <td>2016-08-26</td>\n",
              "      <td>0.33</td>\n",
              "    </tr>\n",
              "    <tr>\n",
              "      <th>1</th>\n",
              "      <td>2016-08-29</td>\n",
              "      <td>0.33</td>\n",
              "    </tr>\n",
              "    <tr>\n",
              "      <th>2</th>\n",
              "      <td>2016-08-30</td>\n",
              "      <td>0.33</td>\n",
              "    </tr>\n",
              "    <tr>\n",
              "      <th>3</th>\n",
              "      <td>2016-08-31</td>\n",
              "      <td>0.33</td>\n",
              "    </tr>\n",
              "    <tr>\n",
              "      <th>4</th>\n",
              "      <td>2016-09-01</td>\n",
              "      <td>0.33</td>\n",
              "    </tr>\n",
              "    <tr>\n",
              "      <th>5</th>\n",
              "      <td>2016-09-02</td>\n",
              "      <td>0.32</td>\n",
              "    </tr>\n",
              "    <tr>\n",
              "      <th>7</th>\n",
              "      <td>2016-09-06</td>\n",
              "      <td>0.32</td>\n",
              "    </tr>\n",
              "    <tr>\n",
              "      <th>8</th>\n",
              "      <td>2016-09-07</td>\n",
              "      <td>0.34</td>\n",
              "    </tr>\n",
              "    <tr>\n",
              "      <th>9</th>\n",
              "      <td>2016-09-08</td>\n",
              "      <td>0.34</td>\n",
              "    </tr>\n",
              "    <tr>\n",
              "      <th>10</th>\n",
              "      <td>2016-09-09</td>\n",
              "      <td>0.34</td>\n",
              "    </tr>\n",
              "    <tr>\n",
              "      <th>11</th>\n",
              "      <td>2016-09-12</td>\n",
              "      <td>0.37</td>\n",
              "    </tr>\n",
              "    <tr>\n",
              "      <th>12</th>\n",
              "      <td>2016-09-13</td>\n",
              "      <td>0.36</td>\n",
              "    </tr>\n",
              "    <tr>\n",
              "      <th>13</th>\n",
              "      <td>2016-09-14</td>\n",
              "      <td>0.33</td>\n",
              "    </tr>\n",
              "    <tr>\n",
              "      <th>14</th>\n",
              "      <td>2016-09-15</td>\n",
              "      <td>0.29</td>\n",
              "    </tr>\n",
              "    <tr>\n",
              "      <th>15</th>\n",
              "      <td>2016-09-16</td>\n",
              "      <td>0.29</td>\n",
              "    </tr>\n",
              "    <tr>\n",
              "      <th>16</th>\n",
              "      <td>2016-09-19</td>\n",
              "      <td>0.30</td>\n",
              "    </tr>\n",
              "    <tr>\n",
              "      <th>17</th>\n",
              "      <td>2016-09-20</td>\n",
              "      <td>0.30</td>\n",
              "    </tr>\n",
              "    <tr>\n",
              "      <th>18</th>\n",
              "      <td>2016-09-21</td>\n",
              "      <td>0.22</td>\n",
              "    </tr>\n",
              "    <tr>\n",
              "      <th>19</th>\n",
              "      <td>2016-09-22</td>\n",
              "      <td>0.18</td>\n",
              "    </tr>\n",
              "    <tr>\n",
              "      <th>20</th>\n",
              "      <td>2016-09-23</td>\n",
              "      <td>0.18</td>\n",
              "    </tr>\n",
              "  </tbody>\n",
              "</table>\n",
              "</div>"
            ],
            "text/plain": [
              "          DATE  DTB3\n",
              "0   2016-08-26  0.33\n",
              "1   2016-08-29  0.33\n",
              "2   2016-08-30  0.33\n",
              "3   2016-08-31  0.33\n",
              "4   2016-09-01  0.33\n",
              "5   2016-09-02  0.32\n",
              "7   2016-09-06  0.32\n",
              "8   2016-09-07  0.34\n",
              "9   2016-09-08  0.34\n",
              "10  2016-09-09  0.34\n",
              "11  2016-09-12  0.37\n",
              "12  2016-09-13  0.36\n",
              "13  2016-09-14  0.33\n",
              "14  2016-09-15  0.29\n",
              "15  2016-09-16  0.29\n",
              "16  2016-09-19  0.30\n",
              "17  2016-09-20  0.30\n",
              "18  2016-09-21  0.22\n",
              "19  2016-09-22  0.18\n",
              "20  2016-09-23  0.18"
            ]
          },
          "metadata": {},
          "execution_count": 135
        }
      ]
    },
    {
      "cell_type": "code",
      "metadata": {
        "colab": {
          "base_uri": "https://localhost:8080/",
          "height": 204
        },
        "id": "kZFwLTko6rF7",
        "outputId": "ec193ca4-c0d2-407f-e885-9c9d11a7a4de"
      },
      "source": [
        "oil.rename(columns = {\"Data 1: Cushing, OK WTI Spot Price FOB (Dollars per Barrel)\":\"Price\"}, inplace=\"True\")\n",
        "oil.rename(columns = {\"Back to Contents\":\"Date\"}, inplace=\"True\")\n",
        "oil.drop(oil.index[:2], inplace=True) # first two rows in oil unrelated to dataset\n",
        "oil['Date'] = pd.to_datetime(oil['Date']).dt.date\n",
        "treasury.rename(columns = {\"DATE\":\"Date\"}, inplace=\"True\") \n",
        "combined_df.dropna(axis=0, inplace=True)\n",
        "oil.Date = oil.Date.astype('str') # needs to be in string form in order for join to work in this instance I believe\n",
        "oil.head()"
      ],
      "execution_count": null,
      "outputs": [
        {
          "output_type": "execute_result",
          "data": {
            "text/html": [
              "<div>\n",
              "<style scoped>\n",
              "    .dataframe tbody tr th:only-of-type {\n",
              "        vertical-align: middle;\n",
              "    }\n",
              "\n",
              "    .dataframe tbody tr th {\n",
              "        vertical-align: top;\n",
              "    }\n",
              "\n",
              "    .dataframe thead th {\n",
              "        text-align: right;\n",
              "    }\n",
              "</style>\n",
              "<table border=\"1\" class=\"dataframe\">\n",
              "  <thead>\n",
              "    <tr style=\"text-align: right;\">\n",
              "      <th></th>\n",
              "      <th>Date</th>\n",
              "      <th>Price</th>\n",
              "    </tr>\n",
              "  </thead>\n",
              "  <tbody>\n",
              "    <tr>\n",
              "      <th>8</th>\n",
              "      <td>1986-01-10</td>\n",
              "      <td>25.65</td>\n",
              "    </tr>\n",
              "    <tr>\n",
              "      <th>9</th>\n",
              "      <td>1986-01-13</td>\n",
              "      <td>25.08</td>\n",
              "    </tr>\n",
              "    <tr>\n",
              "      <th>10</th>\n",
              "      <td>1986-01-14</td>\n",
              "      <td>24.97</td>\n",
              "    </tr>\n",
              "    <tr>\n",
              "      <th>11</th>\n",
              "      <td>1986-01-15</td>\n",
              "      <td>25.18</td>\n",
              "    </tr>\n",
              "    <tr>\n",
              "      <th>12</th>\n",
              "      <td>1986-01-16</td>\n",
              "      <td>23.98</td>\n",
              "    </tr>\n",
              "  </tbody>\n",
              "</table>\n",
              "</div>"
            ],
            "text/plain": [
              "          Date  Price\n",
              "8   1986-01-10  25.65\n",
              "9   1986-01-13  25.08\n",
              "10  1986-01-14  24.97\n",
              "11  1986-01-15  25.18\n",
              "12  1986-01-16  23.98"
            ]
          },
          "metadata": {},
          "execution_count": 168
        }
      ]
    },
    {
      "cell_type": "code",
      "metadata": {
        "colab": {
          "base_uri": "https://localhost:8080/"
        },
        "id": "-KBPrRyEC61y",
        "outputId": "7acb1f70-c881-4f4b-c85f-cd46d11cb9e9"
      },
      "source": [
        "combined_df = oil.join(treasury.set_index('Date'), on='Date', how='inner')\n",
        "combined_df[\"Price\"] = pd.to_numeric(combined_df[\"Price\"], downcast=\"float\")\n",
        "combined_df[\"DTB3\"] = pd.to_numeric(combined_df[\"DTB3\"], downcast=\"float\")\n",
        "pd.options.display.float_format = \"{:,.2f}\".format\n",
        "# transform both from object to float so I can do calculations later\n",
        "print(combined_df)"
      ],
      "execution_count": null,
      "outputs": [
        {
          "output_type": "stream",
          "name": "stdout",
          "text": [
            "            Date  Price  DTB3\n",
            "7734  2016-08-26  47.64  0.33\n",
            "7735  2016-08-29  46.97  0.33\n",
            "7736  2016-08-30  46.32  0.33\n",
            "7737  2016-08-31  44.68  0.33\n",
            "7738  2016-09-01  43.17  0.33\n",
            "...          ...    ...   ...\n",
            "8942  2021-06-24  73.31  0.05\n",
            "8943  2021-06-25  74.21  0.06\n",
            "8944  2021-06-28  72.98  0.05\n",
            "8945  2021-06-29  73.14  0.04\n",
            "8946  2021-06-30  73.52  0.05\n",
            "\n",
            "[1203 rows x 3 columns]\n"
          ]
        }
      ]
    },
    {
      "cell_type": "code",
      "metadata": {
        "id": "8QhF43SvKYR3",
        "colab": {
          "base_uri": "https://localhost:8080/"
        },
        "outputId": "01493007-396f-49ac-82ba-841ee6da1a00"
      },
      "source": [
        "combined_df['Date'] = pd.to_datetime(combined_df['Date'], format='%Y-%m-%d')\n",
        "# transform string to datetime object so I can filter\n",
        "filtered_df = combined_df.loc[(combined_df['Date'] >= '2019-12-31') & (combined_df['Date'] <= '2020-12-31')]\n",
        "print(filtered_df)"
      ],
      "execution_count": null,
      "outputs": [
        {
          "output_type": "stream",
          "name": "stdout",
          "text": [
            "           Date  Price  DTB3\n",
            "8570 2019-12-31  61.14  1.52\n",
            "8571 2020-01-02  61.17  1.51\n",
            "8572 2020-01-03  63.00  1.49\n",
            "8573 2020-01-06  63.27  1.53\n",
            "8574 2020-01-07  62.70  1.51\n",
            "...         ...    ...   ...\n",
            "8818 2020-12-24  48.18  0.09\n",
            "8819 2020-12-28  47.50  0.11\n",
            "8820 2020-12-29  47.85  0.10\n",
            "8821 2020-12-30  48.24  0.08\n",
            "8822 2020-12-31  48.35  0.09\n",
            "\n",
            "[250 rows x 3 columns]\n"
          ]
        }
      ]
    },
    {
      "cell_type": "code",
      "metadata": {
        "colab": {
          "base_uri": "https://localhost:8080/"
        },
        "id": "LSUv_N4NshCz",
        "outputId": "e11f0afb-f0ed-4e90-e79d-73e165330a35"
      },
      "source": [
        "import warnings\n",
        "warnings.filterwarnings('ignore')\n",
        "\n",
        "filtered_df['oil_rets'] = filtered_df['Price'].pct_change()\n",
        "filtered_df['tbill_rets'] = filtered_df['DTB3'].pct_change()\n",
        "filtered_df['simple_excess_rets'] = oil_rets - tbill_rets\n",
        "# This answers part 1 of take-home test\n",
        "print(filtered_df)"
      ],
      "execution_count": null,
      "outputs": [
        {
          "output_type": "stream",
          "name": "stdout",
          "text": [
            "           Date  Price  DTB3  oil_rets  tbill_rets  simple_excess_rets\n",
            "8570 2019-12-31  61.14  1.52       nan         nan                 nan\n",
            "8571 2020-01-02  61.17  1.51      0.00       -0.01                0.01\n",
            "8572 2020-01-03  63.00  1.49      0.03       -0.01                0.04\n",
            "8573 2020-01-06  63.27  1.53      0.00        0.03               -0.02\n",
            "8574 2020-01-07  62.70  1.51     -0.01       -0.01                0.00\n",
            "...         ...    ...   ...       ...         ...                 ...\n",
            "8818 2020-12-24  48.18  0.09      0.01        0.00                0.01\n",
            "8819 2020-12-28  47.50  0.11     -0.01        0.22               -0.24\n",
            "8820 2020-12-29  47.85  0.10      0.01       -0.09                0.10\n",
            "8821 2020-12-30  48.24  0.08      0.01       -0.20                0.21\n",
            "8822 2020-12-31  48.35  0.09      0.00        0.13               -0.12\n",
            "\n",
            "[250 rows x 6 columns]\n"
          ]
        }
      ]
    },
    {
      "cell_type": "code",
      "metadata": {
        "colab": {
          "base_uri": "https://localhost:8080/"
        },
        "id": "vTXD-bDkD4Bp",
        "outputId": "ada0f8ae-5f4f-405e-b8e9-5585acb72f3f"
      },
      "source": [
        "cum_return_oil = (filtered_df['oil_rets'].iloc[-1] - filtered_df['oil_rets'].iloc[1]) / filtered_df['oil_rets'].iloc[1]\n",
        "cum_return_oil\n",
        "# for this cell and next, you do not add up simple averages (you multiply) but just curious what the sum of percent changes was\n",
        "#iloc [-1] avoid the NaN row"
      ],
      "execution_count": null,
      "outputs": [
        {
          "output_type": "execute_result",
          "data": {
            "text/plain": [
              "3.6472304"
            ]
          },
          "metadata": {},
          "execution_count": 232
        }
      ]
    },
    {
      "cell_type": "code",
      "metadata": {
        "colab": {
          "base_uri": "https://localhost:8080/"
        },
        "id": "KoNQXyX9E2dM",
        "outputId": "b065cee9-2392-4e4e-bf26-7480ae6519b8"
      },
      "source": [
        "cum_return_tbill = (filtered_df['tbill_rets'].iloc[-1] - filtered_df['tbill_rets'].iloc[1]) / filtered_df['tbill_rets'].iloc[1]\n",
        "cum_return_tbill"
      ],
      "execution_count": null,
      "outputs": [
        {
          "output_type": "execute_result",
          "data": {
            "text/plain": [
              "-20.000092"
            ]
          },
          "metadata": {},
          "execution_count": 233
        }
      ]
    },
    {
      "cell_type": "code",
      "metadata": {
        "colab": {
          "base_uri": "https://localhost:8080/"
        },
        "id": "O730Mxb43Pb1",
        "outputId": "5f7b7f77-568d-4327-8bfd-a33076da3741"
      },
      "source": [
        "log_data = [filtered_df[\"Date\"], filtered_df[\"Price\"], filtered_df[\"DTB3\"]]\n",
        "log_headers = [\"Date\", \"Price\", \"DTB3\"]\n",
        "log_df = pd.concat(log_data, axis=1, keys=log_headers)\n",
        "# creating new dataframe connected to filtered_df so I can calculate separate log returns\n",
        "log_df['oil_rets'] = np.log(log_df['Price']/log_df['Price'].shift(1))\n",
        "log_df['tbill_rets'] = np.log(log_df['DTB3']/log_df['DTB3'].shift(1))\n",
        "log_df['excess_rets'] = log_df['oil_rets'] - log_df['tbill_rets']\n",
        "print(log_df)"
      ],
      "execution_count": null,
      "outputs": [
        {
          "output_type": "stream",
          "name": "stdout",
          "text": [
            "           Date  Price  DTB3  oil_rets  tbill_rets  excess_rets\n",
            "8570 2019-12-31  61.14  1.52       nan         nan          nan\n",
            "8571 2020-01-02  61.17  1.51      0.00       -0.01         0.01\n",
            "8572 2020-01-03  63.00  1.49      0.03       -0.01         0.04\n",
            "8573 2020-01-06  63.27  1.53      0.00        0.03        -0.02\n",
            "8574 2020-01-07  62.70  1.51     -0.01       -0.01         0.00\n",
            "...         ...    ...   ...       ...         ...          ...\n",
            "8818 2020-12-24  48.18  0.09      0.00        0.00         0.00\n",
            "8819 2020-12-28  47.50  0.11     -0.01        0.20        -0.21\n",
            "8820 2020-12-29  47.85  0.10      0.01       -0.10         0.10\n",
            "8821 2020-12-30  48.24  0.08      0.01       -0.22         0.23\n",
            "8822 2020-12-31  48.35  0.09      0.00        0.12        -0.12\n",
            "\n",
            "[250 rows x 6 columns]\n"
          ]
        }
      ]
    },
    {
      "cell_type": "code",
      "metadata": {
        "colab": {
          "base_uri": "https://localhost:8080/"
        },
        "id": "594kfoNj5vzP",
        "outputId": "01d4f8cf-a1e0-495d-b197-2e138b1e5ace"
      },
      "source": [
        "array = log_df.iloc[:,-1].values\n",
        "array= np.around(array, decimals=2, out=None)\n",
        "# for finding cumulative return in next step, I found it easier to transform the column to numpy array first\n",
        "print(array)"
      ],
      "execution_count": null,
      "outputs": [
        {
          "output_type": "stream",
          "name": "stdout",
          "text": [
            "[  nan  0.01  0.04 -0.02  0.   -0.05 -0.   -0.01 -0.03  0.   -0.01  0.02\n",
            " -0.01 -0.01 -0.02 -0.02 -0.02 -0.03 -0.01  0.01 -0.03  0.   -0.04 -0.01\n",
            "  0.03  0.   -0.01 -0.03  0.01  0.02 -0.    0.02  0.    0.02  0.01  0.01\n",
            " -0.02 -0.03 -0.02  0.02  0.08  0.17  0.18  0.26  0.13  0.19  0.06 -0.19\n",
            "  0.01  0.17  0.21  0.03  0.16  1.98 -0.49 -0.48  1.1   0.59   nan -0.45\n",
            "   nan -1.48  0.46  0.19  0.22  0.01 -0.48 -0.04 -0.39 -0.21 -0.06  0.16\n",
            "  0.35 -0.01  0.07   nan   nan  0.34  0.19 -0.03 -0.27  0.11  0.29  0.35\n",
            " -0.26 -0.04  0.18  0.05  0.08 -0.04 -0.03 -0.01 -0.02  0.16  0.07 -0.\n",
            "  0.01  0.12  0.02 -0.02 -0.12 -0.13  0.03  0.12 -0.   -0.03 -0.05  0.07\n",
            "  0.05 -0.16 -0.09  0.13 -0.08  0.06 -0.1   0.09 -0.01  0.08  0.09 -0.04\n",
            " -0.    0.   -0.04  0.13  0.03 -0.14  0.15  0.02 -0.07  0.    0.01  0.11\n",
            "  0.02 -0.09 -0.06 -0.04  0.36 -0.   -0.16  0.02  0.    0.06  0.09  0.01\n",
            " -0.01  0.01  0.17  0.01 -0.09  0.13 -0.09 -0.01 -0.02 -0.08 -0.01  0.03\n",
            "  0.09 -0.    0.02  0.11 -0.2  -0.01  0.09 -0.18  0.1   0.   -0.01  0.1\n",
            " -0.19  0.    0.05 -0.04 -0.24  0.11 -0.02  0.09 -0.    0.03 -0.04  0.31\n",
            " -0.1  -0.05  0.01 -0.09  0.1  -0.   -0.09  0.16 -0.08  0.07 -0.04 -0.05\n",
            "  0.04 -0.02  0.14 -0.12 -0.11 -0.07  0.09 -0.   -0.    0.11 -0.04  0.12\n",
            " -0.12 -0.13  0.12 -0.05  0.07 -0.01  0.03 -0.08  0.04 -0.01 -0.04 -0.02\n",
            "  0.12 -0.01  0.08  0.03  0.    0.01  0.25  0.01 -0.11 -0.08  0.02  0.11\n",
            " -0.13  0.02  0.13 -0.11  0.11 -0.12  0.11  0.03 -0.   -0.11  0.13 -0.11\n",
            "  0.13  0.01 -0.14 -0.02  0.02  0.   -0.21  0.1   0.23 -0.12]\n"
          ]
        }
      ]
    },
    {
      "cell_type": "code",
      "metadata": {
        "colab": {
          "base_uri": "https://localhost:8080/"
        },
        "id": "9I6EVb5N_Szf",
        "outputId": "6e9fc9db-549c-4192-be51-75d061538bff"
      },
      "source": [
        "total = np.nansum(array)\n",
        "# total refers to cumulative log excess return in decimal form\n",
        "# This answers part 2 of take-home test\n",
        "# log cumulative excess return is 423%\n",
        "print(total)"
      ],
      "execution_count": null,
      "outputs": [
        {
          "output_type": "stream",
          "name": "stdout",
          "text": [
            "4.2300005\n"
          ]
        }
      ]
    }
  ]
}